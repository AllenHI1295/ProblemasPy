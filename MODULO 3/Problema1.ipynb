{
 "cells": [
  {
   "cell_type": "markdown",
   "metadata": {},
   "source": [
    "# Credit"
   ]
  },
  {
   "cell_type": "markdown",
   "metadata": {},
   "source": [
    "Implemente un programa que determine si un número de tarjeta de crédito proporcionado es válido según el algoritmo de Luhn."
   ]
  },
  {
   "cell_type": "markdown",
   "metadata": {},
   "source": [
    "<code>$ python credit.py\n",
    "Number: 378282246310005\n",
    "AMEX</code>"
   ]
  },
  {
   "cell_type": "markdown",
   "metadata": {},
   "source": [
    "Una tarjeta de crédito (o débito), por supuesto, es una tarjeta de plástico con la que puede pagar bienes y servicios. Impreso en esa tarjeta hay un número que también está almacenado en una base de datos en algún lugar, de modo que cuando su tarjeta se usa para comprar algo, el acreedor sabe a quién facturar. Hay muchas personas con tarjetas de crédito en este mundo, por lo que esos números son bastante largos: American Express usa números de 15 dígitos, MasterCard usa números de 16 dígitos y Visa usa números de 13 y 16 dígitos. Y esos dígitos son números decimales (0 a 9), no binarios, lo que significa, por ejemplo, que American Express podría imprimir hasta 10 ^ 15 = 1,000,000,000,000,000 tarjetas únicas. (Eso es, um, un billón).\n",
    "\n",
    "En realidad, eso es un poco exagerado, porque los números de las tarjetas de crédito en realidad tienen cierta estructura. Todos los números de American Express comienzan con 34 o 37; la mayoría de los números de MasterCard comienzan con 51, 52, 53, 54 o 55; y todos los números de Visa comienzan con 4. Pero los números de tarjetas de crédito también tienen una \"suma de verificación\" incorporada, una relación matemática entre al menos un número y otros. Esa suma de comprobación permite a las computadoras (o humanos a los que les gustan las matemáticas) detectar errores tipográficos (por ejemplo, transposiciones), si no números fraudulentos, sin tener que consultar una base de datos, lo que puede ser lento. Por supuesto, un matemático deshonesto podría sin duda crear un número falso que, sin embargo, respete la restricción matemática, por lo que una búsqueda en la base de datos aún es necesaria para verificaciones más rigurosas."
   ]
  },
  {
   "cell_type": "markdown",
   "metadata": {},
   "source": [
    "## Especificaciones"
   ]
  },
  {
   "cell_type": "markdown",
   "metadata": {},
   "source": [
    "- En <code>credit.py</code> escribir un programa que solicita al usuario un número de tarjeta de crédito y luego informes (a través de <code>print</code>) si se trata de una válida American Express, MasterCard, o número de tarjeta Visa.\n",
    "- Para que podamos automatizar algunas pruebas de su código, le pedimos que la última línea de salida de su programa sea <code>AMEX\\n</code>o <code>MASTERCARD\\n</code> o <code>VISA\\n</code> o <code>INVALID\\n</code> , nada más, nada menos.\n",
    "- Para simplificar, puede suponer que la entrada del usuario será completamente numérica (es decir, sin guiones, como podría estar impreso en una tarjeta real)."
   ]
  },
  {
   "cell_type": "markdown",
   "metadata": {},
   "source": [
    "## Uso"
   ]
  },
  {
   "cell_type": "markdown",
   "metadata": {},
   "source": [
    "Su programa debería comportarse según el ejemplo siguiente."
   ]
  },
  {
   "cell_type": "markdown",
   "metadata": {},
   "source": [
    "<code>$ python credit.py\n",
    "Number: 378282246310005\n",
    "AMEX</code>"
   ]
  },
  {
   "cell_type": "markdown",
   "metadata": {},
   "source": [
    "## Algoritmo de Luhn"
   ]
  },
  {
   "cell_type": "markdown",
   "metadata": {},
   "source": [
    "Entonces, ¿cuál es la fórmula secreta? Bueno, la mayoría de las tarjetas utilizan un algoritmo inventado por Hans Peter Luhn de IBM. De acuerdo con el algoritmo de Luhn, puede determinar si un número de tarjeta de crédito es (sintácticamente) válido de la siguiente manera:\n",
    "\n",
    "1. Multiplica cada dos dígitos por 2, comenzando con el penúltimo dígito del número y luego suma los dígitos de esos productos.\n",
    "2. Suma la suma a la suma de los dígitos que no se multiplicaron por 2.\n",
    "3. Si el último dígito del total es 0 (o, dicho de manera más formal, si el módulo total 10 es congruente con 0), ¡el número es válido!\n",
    "\n",
    "Eso es un poco confuso, así que probemos un ejemplo con la visa de David: 4003600000000014.\n",
    "\n",
    "1. Por el bien de la discusión, primero subrayemos cada dos dígitos, comenzando con el penúltimo dígito del número:\n",
    "\n",
    "    **4** 0 **0** 3 **6** 0 **0** 0 **0** 0 **0** 0 **0** 0 **1** 4\n",
    "\n",
    "    Bien, multipliquemos cada uno de los dígitos subrayados por 2:\n",
    "\n",
    "    1 • 2 + 0 • 2 + 0 • 2 + 0 • 2 + 0 • 2 + 6 • 2 + 0 • 2 + 4 • 2\n",
    "\n",
    "    Eso nos da:\n",
    "\n",
    "    2 + 0 + 0 + 0 + 0 + 12 + 0 + 8\n",
    "\n",
    "2. Ahora agreguemos los dígitos de esos productos (es decir, no los productos en sí) juntos:\n",
    "\n",
    "    2 + 0 + 0 + 0 + 0 + 1 + 2 + 0 + 8 = 13\n",
    "\n",
    "    Ahora agreguemos esa suma (13) a la suma de los dígitos que no fueron multiplicados por 2 (comenzando desde el final):\n",
    "\n",
    "    13 + 4 + 0 + 0 + 0 + 0 + 0 + 3 + 0 = 20\n",
    "\n",
    "3. Sí, el último dígito de esa suma (20) es un 0, ¡así que la tarjeta de David es legítima!\n",
    "\n",
    "Por lo tanto, validar los números de tarjetas de crédito no es difícil, pero se vuelve un poco tedioso a mano. Escribamos un programa."
   ]
  },
  {
   "cell_type": "markdown",
   "metadata": {},
   "source": [
    "## Pruebas"
   ]
  },
  {
   "cell_type": "markdown",
   "metadata": {},
   "source": [
    "- Ejecute su programa como python <code>credit.py</code>y espere a que se le solicite la entrada. Escribe <code>378282246310005</code> y presiona enter. Su programa debería generar <code>AMEX</code>.\n",
    "- Ejecute su programa como python <code>credit.py</code> y espere a que se le solicite la entrada. Escribe <code>371449635398431</code> y presiona enter. Su programa debería generar <code>AMEX</code>.\n",
    "- Ejecute su programa como python <code>credit.py</code> y espere a que se le solicite la entrada. Escribe <code>5555555555554444</code> y presiona enter. Su programa debería generar <code>MASTERCARD</code>.\n",
    "- Ejecute su programa como python <code>credit.py</code> y espere a que se le solicite la entrada. Escribe <code>5105105105105100</code> y presiona enter. Su programa debería generar <code>MASTERCARD</code>.\n",
    "- Ejecute su programa como python <code>credit.py</code> y espere a que se le solicite la entrada. Escribe <code>4111111111111111</code> y presiona enter. Su programa debería generar <code>VISA</code>.\n",
    "- Ejecute su programa como python <code>credit.py</code> y espere a que se le solicite la entrada. Escribe <code>4012888888881881</code> y presiona enter. Su programa debería generar <code>VISA</code>.\n",
    "- Ejecute su programa como python <code>credit.py</code> y espere a que se le solicite la entrada. Escribe <code>1234567890</code> y presiona enter. Su programa debería generar <code>INVALID</code> ."
   ]
  },
  {
   "cell_type": "markdown",
   "metadata": {},
   "source": [
    "Aqui más códigos de tarjetas de paypal para validar <a href='https://developer.paypal.com/docs/payflow/payflow-pro/payflow-pro-testing/#credit-card-numbers-for-testing'>link</a>"
   ]
  },
  {
   "cell_type": "code",
   "execution_count": 8,
   "metadata": {},
   "outputs": [
    {
     "ename": "IndentationError",
     "evalue": "expected an indented block (<ipython-input-8-036f7b1c6ab6>, line 140)",
     "output_type": "error",
     "traceback": [
      "\u001b[1;36m  File \u001b[1;32m\"<ipython-input-8-036f7b1c6ab6>\"\u001b[1;36m, line \u001b[1;32m140\u001b[0m\n\u001b[1;33m    bin_generar = str(argv[1])\u001b[0m\n\u001b[1;37m    ^\u001b[0m\n\u001b[1;31mIndentationError\u001b[0m\u001b[1;31m:\u001b[0m expected an indented block\n"
     ]
    }
   ],
   "source": [
    "import sys\n",
    "import math\n",
    "import json\n",
    "import random\n",
    "import datetime\n",
    "\n",
    "class Generar_tarjeta():\n",
    "    def __init__(self,BIN, cantidad=1, solo_impresion=False):\n",
    "        self.BIN = BIN.replace(\" \",\"\")#Procesar espacios\n",
    "        self.db_bins = \"db_bins.txt\"\n",
    "        \n",
    "        if(len(self.BIN) > 16 or len(self.BIN) < 15):#Tiene que tener la longitud indicada\n",
    "            print(\"Por favor revisa la longitud del BIN.\")\n",
    "        elif(BIN[0].lower() == \"x\"):#Si no hay un bin especifico se elige uno de la db al azar\n",
    "            print(\"No hay un BIN asignado, eligiendo uno al azar de la base de datos\")\n",
    "            bin_reg = list(self.BIN)\n",
    "            bin_nuevo = self.bin_al_azar()\n",
    "            for i in range(0,5):bin_reg[i] = bin_nuevo[i]\n",
    "            self.BIN = \"\".join([i for i in bin_reg])\n",
    "            \n",
    "        ##Comienza generacion\n",
    "        print(\"Generando numero de tarjeta..\")\n",
    "        self.localidad_bin = \"Desconocida\"\n",
    "        self.RONDAS_GEN = 1000\n",
    "        self.CANTIDAD_TARJETAS = cantidad\n",
    "        self.lista_tarjetas = []\n",
    "        self.dic_tarjetas = {}\n",
    "        if self.CANTIDAD_TARJETAS >= 1:\n",
    "            for i in range(0, self.CANTIDAD_TARJETAS):\n",
    "                tarj_creada = self.crear_tarjeta()\n",
    "                self.lista_tarjetas.append(tarj_creada[\"datos_completos\"])\n",
    "                #Plantilla dato\n",
    "                self.dic_tarjetas[i] = {\n",
    "                        \"numero\":tarj_creada[\"numero_tarjeta\"],\n",
    "                        \"codigo_seg\":tarj_creada[\"codigo_seg\"],\n",
    "                        \"tipo_tarjeta\":tarj_creada[\"tipo_tarjeta\"],\n",
    "                        \"fecha\":tarj_creada[\"venc\"],\n",
    "                        \"dato_completo\":tarj_creada[\"datos_completos\"]\n",
    "                }\n",
    "        else:\n",
    "            self.crear_tarjeta()\n",
    "\n",
    "        if solo_impresion:#solo impresion\n",
    "            for n in self.lista_tarjetas:\n",
    "                print(n)\n",
    "\n",
    "    def localizar_bin(self, cc):\n",
    "        archivo = open(self.db_bins, \"r\")\n",
    "        for ccb in archivo.read().split(\"\\n\"):\n",
    "            if(cc[:6] == ccb[:6]):\n",
    "                return \" \".join([i for i in ccb.split(\"\\t\")])\n",
    "        comunes = {\n",
    "                    \"4\":\"Visa\", \n",
    "                    \"5\":\"MasterCard\"\n",
    "        }\n",
    "        if(cc[0] in comunes):\n",
    "            archivo.close()\n",
    "            return comunes[cc[0]]\n",
    "        return \"Desconocida\"\n",
    "    \n",
    "    def bin_al_azar(self):\n",
    "        archivo = open(self.db_bins, \"r\").read().split(\"\\n\")\n",
    "        return random.choice(archivo)[:6]\n",
    "\n",
    "    def json(self):\n",
    "        return json.dumps(self.dic_tarjetas)\n",
    "\n",
    "    def crear_tarjeta(self):\n",
    "        tarjeta = {}\n",
    "        tarjeta[\"numero_tarjeta\"] = self.crear_numero(self.BIN)\n",
    "        tarjeta[\"codigo_seg\"] \t  = self.generar_codigo_seguridad()\n",
    "        if(self.localidad_bin == \"Desconocida\"):\n",
    "            tarjeta[\"tipo_tarjeta\"] = self.localizar_bin(tarjeta[\"numero_tarjeta\"])\n",
    "            self.localidad_bin = tarjeta[\"tipo_tarjeta\"]\n",
    "        else:\n",
    "            tarjeta[\"tipo_tarjeta\"] = self.localidad_bin\n",
    "        tarjeta[\"venc\"]\t\t\t  = self.generar_fecha_venc()\n",
    "        self.string = \"\"\n",
    "        self.string += tarjeta[\"numero_tarjeta\"]\n",
    "        self.string += \" | \" + tarjeta[\"codigo_seg\"]\n",
    "        self.string += \" | \" + tarjeta[\"venc\"][\"fecha_acortada\"]\n",
    "        self.string += \" | \" + tarjeta[\"tipo_tarjeta\"]\n",
    "        tarjeta[\"datos_completos\"] = self.string\n",
    "        return tarjeta\n",
    "    \n",
    "    def gen_aleatorio(self, BIN):\t\n",
    "        numero = \"\"\n",
    "        for i in BIN:\n",
    "            numero+=str(random.randint(0,9)) if i.lower() == \"x\" else i\n",
    "        return numero\n",
    "\n",
    "    def checkear(self, cc):\n",
    "        num = list((map(int, str(cc))))\n",
    "        return sum(num[::-2] + [sum(divmod(d * 2, 10)) for d in num[-2::-2]]) % 10 == 0\n",
    "\n",
    "    def crear_numero(self, BIN):\n",
    "        numero = self.gen_aleatorio(BIN)\n",
    "        for i in range(1,self.RONDAS_GEN):\n",
    "            numero = self.gen_aleatorio(BIN)\n",
    "            chk0 = self.checkear(numero)\n",
    "            if(chk0 and numero):\n",
    "                return numero\n",
    "\n",
    "    def generar_fecha_venc(self):\n",
    "        fecha = {\n",
    "            \"anio\":None,\n",
    "            \"mes\":None,\n",
    "            \"fecha_completa\":None,\n",
    "            \"fecha_acortada\":None\n",
    "        }\n",
    "        def gen_anio():\n",
    "            anio_actual = datetime.datetime.now().year\n",
    "            return anio_actual  + random.randint(2,3)\n",
    "        fecha[\"anio\"] = str(gen_anio())\n",
    "        def gen_mes():\n",
    "            mes = random.randint(1,12)\n",
    "            if(mes > 9):\n",
    "                return str(mes)\n",
    "            else:\n",
    "                return \"0\"+str(mes)\t\n",
    "\n",
    "        fecha[\"mes\"] = gen_mes()\n",
    "        fecha[\"fecha_completa\"] = fecha[\"mes\"] + \"/\" + fecha[\"anio\"]\n",
    "        fecha[\"fecha_acortada\"] = fecha[\"mes\"] + \"/\" + fecha[\"anio\"][2:]\n",
    "        return fecha\n",
    "    \n",
    "    def generar_codigo_seguridad(self):\n",
    "        return str(random.randint(101,998))\n",
    "    \n",
    "    def rellenar(self,numero):\n",
    "        numero_f = numero\n",
    "        for i in range(0,16-len(numero)):\n",
    "            numero_f+=\"x\"\n",
    "        return numero_f\n",
    "    \n",
    "\n",
    "if __name__ == \"__main__\":\n",
    "    argv = sys.argv\n",
    "    if(len(argv) > 2):\n",
    "    bin_generar = str(argv[1])\n",
    "        num = Generar_tarjeta(bin_generar,int(argv[2]),True)\n",
    "    else:\n",
    "        print(\"USO:  BIN_BASE CANTIDAD\")\n",
    "\n",
    "\n",
    "bin_muestra = \"450911xxxxxxxxxx\"\n",
    "#imprimir resultado en consola\n",
    "num = Generar_tarjeta(bin_muestra,16,True)"
   ]
  },
  {
   "cell_type": "code",
   "execution_count": null,
   "metadata": {},
   "outputs": [],
   "source": []
  },
  {
   "cell_type": "code",
   "execution_count": null,
   "metadata": {},
   "outputs": [],
   "source": []
  },
  {
   "cell_type": "code",
   "execution_count": null,
   "metadata": {},
   "outputs": [],
   "source": []
  },
  {
   "cell_type": "code",
   "execution_count": null,
   "metadata": {},
   "outputs": [],
   "source": []
  },
  {
   "cell_type": "code",
   "execution_count": null,
   "metadata": {},
   "outputs": [],
   "source": []
  },
  {
   "cell_type": "code",
   "execution_count": null,
   "metadata": {},
   "outputs": [],
   "source": []
  },
  {
   "cell_type": "code",
   "execution_count": null,
   "metadata": {},
   "outputs": [],
   "source": []
  },
  {
   "cell_type": "code",
   "execution_count": null,
   "metadata": {},
   "outputs": [],
   "source": []
  },
  {
   "cell_type": "code",
   "execution_count": null,
   "metadata": {},
   "outputs": [],
   "source": []
  }
 ],
 "metadata": {
  "kernelspec": {
   "display_name": "Python 3",
   "language": "python",
   "name": "python3"
  },
  "language_info": {
   "codemirror_mode": {
    "name": "ipython",
    "version": 3
   },
   "file_extension": ".py",
   "mimetype": "text/x-python",
   "name": "python",
   "nbconvert_exporter": "python",
   "pygments_lexer": "ipython3",
   "version": "3.8.5"
  }
 },
 "nbformat": 4,
 "nbformat_minor": 4
}
