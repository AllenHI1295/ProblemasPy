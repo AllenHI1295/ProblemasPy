{
 "cells": [
  {
   "cell_type": "markdown",
   "metadata": {},
   "source": [
    "# PROBLEMAS DIVERSOS"
   ]
  },
  {
   "cell_type": "markdown",
   "metadata": {},
   "source": [
    "<h3>1.</h3>\n",
    "Realizar una función que permita la carga de n alumnos. Por cada alumno se deberá preguntar el nombre completo y permitir el ingreso de 3 notas. Las notas deben estar comprendidas entre 0 y 10. Devolver el listado de alumnos."
   ]
  },
  {
   "cell_type": "markdown",
   "metadata": {},
   "source": [
    "### 2.\n",
    "Definir una función que dado un listado de alumnos evalúe cuántos aprobaron y cuántos desaprobaron, teniendo en cuenta que se aprueba con 4. La nota será el promedio de las 3 notas para cada alumno."
   ]
  },
  {
   "cell_type": "markdown",
   "metadata": {},
   "source": [
    "### 3.\n",
    "Informar el promedio de nota del curso total."
   ]
  },
  {
   "cell_type": "markdown",
   "metadata": {},
   "source": [
    "### 4.\n",
    "Realizar una función que indique quién tuvo el promedio más alto y quién tuvo la nota promedio más baja."
   ]
  },
  {
   "cell_type": "markdown",
   "metadata": {},
   "source": [
    "### 5.\n",
    "Realizar una función que permita buscar un alumno por nombre, siendo el nombre completo o parcial, y devuelva una lista con los n alumnos que concuerden con ese nombre junto con todos sus datos, incluido el promedio de sus notas."
   ]
  },
  {
   "cell_type": "code",
   "execution_count": null,
   "metadata": {},
   "outputs": [],
   "source": [
    "float promedio(int valores[], int cantidad) {\n",
    "    int i;\n",
    "    float suma = 0.0;\n",
    "\n",
    "    for (i = 0; i < cantidad; ++i)\n",
    "        suma += valores[i];\n",
    "\n",
    "    return suma / (float) cantidad;\n",
    "}\n",
    "\n",
    "\n",
    "int main() {\n",
    "\n",
    "    int notas[10];\n",
    "    char nombre[20];\n",
    "    char opcion[3];\n",
    "    int n, i;\n",
    "\n",
    "    do {\n",
    "        printf(\"Ingrese nombre del alumno: \");\n",
    "        scanf(\"%s\", nombre);\n",
    "\n",
    "        printf(\"Cuantas notas tiene %s? \", nombre);\n",
    "        scanf(\"%d\", &n);\n",
    "\n",
    "        for (i = 0; i < n; ++i) {\n",
    "            printf(\"  Nota %d: \", i + 1);\n",
    "            scanf(\"%d\", &notas[i]);\n",
    "        }\n",
    "\n",
    "        printf(\"El promedio de %s es %.1f\\n\", nombre, promedio(notas, n));\n",
    "\n",
    "        printf(\"Desea calcular mas promedios (si/no)? \");\n",
    "        scanf(\"%s\", opcion);\n",
    "\n",
    "    } while (opcion[0] == 's' || opcion[0] == 'S');\n",
    "\n",
    "    return 0;\n",
    "}"
   ]
  }
 ],
 "metadata": {
  "kernelspec": {
   "display_name": "Python 3",
   "language": "python",
   "name": "python3"
  },
  "language_info": {
   "codemirror_mode": {
    "name": "ipython",
    "version": 3
   },
   "file_extension": ".py",
   "mimetype": "text/x-python",
   "name": "python",
   "nbconvert_exporter": "python",
   "pygments_lexer": "ipython3",
   "version": "3.8.5"
  }
 },
 "nbformat": 4,
 "nbformat_minor": 4
}
